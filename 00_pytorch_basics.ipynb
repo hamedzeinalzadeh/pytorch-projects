{
 "cells": [
  {
   "cell_type": "markdown",
   "id": "ca2a2fb7-15e0-4d81-9a28-95d6c92381ce",
   "metadata": {},
   "source": [
    "# **Pytorch Basics**\n",
    "---\n",
    "\n",
    "Make sure that you have installed pytorch using the following command.\n",
    "\n",
    "```python \n",
    "torch.__version__\n",
    "```"
   ]
  },
  {
   "cell_type": "markdown",
   "id": "f80c308f-f16c-499f-a0da-d2f5c6a43afa",
   "metadata": {},
   "source": [
    "## Imports"
   ]
  },
  {
   "cell_type": "code",
   "execution_count": 1,
   "id": "551efd63-d1bb-48b2-9f87-200b545af3c1",
   "metadata": {},
   "outputs": [],
   "source": [
    "import torch\n",
    "import numpy as np"
   ]
  },
  {
   "cell_type": "markdown",
   "id": "e7df3289-0ed7-4a62-afd9-c9df5f173bba",
   "metadata": {},
   "source": [
    "# Tensor Basics\n",
    "A torch.Tensor is a multi-dimensional matrix containing elements of a single data type. Check out the link for more details about **torch.tensor** and **Data Types**:\n",
    "\n",
    "https://pytorch.org/docs/stable/tensors.html"
   ]
  },
  {
   "cell_type": "markdown",
   "id": "3d0e3f46-ac27-42a3-9251-4b822d06a4ef",
   "metadata": {},
   "source": [
    "## Converting Numpy Arrays to Pytorch Tensors"
   ]
  },
  {
   "cell_type": "code",
   "execution_count": 2,
   "id": "55bbf859-01d9-48eb-870c-4a1c37c93a82",
   "metadata": {},
   "outputs": [
    {
     "name": "stdout",
     "output_type": "stream",
     "text": [
      "<class 'numpy.ndarray'>\n",
      "int64\n"
     ]
    }
   ],
   "source": [
    "arr = np.array([1,2,3,4,5])\n",
    "print(type(arr))\n",
    "print(arr.dtype)"
   ]
  },
  {
   "cell_type": "code",
   "execution_count": 3,
   "id": "aa84ff83-aa5e-429c-a56d-f91fad181e9a",
   "metadata": {},
   "outputs": [
    {
     "name": "stdout",
     "output_type": "stream",
     "text": [
      "tensor([1, 2, 3, 4, 5])\n",
      "<class 'torch.Tensor'>\n",
      "torch.int64\n",
      "torch.LongTensor\n"
     ]
    }
   ],
   "source": [
    "x = torch.from_numpy(arr)\n",
    "# Equivalent to x = torch.as_tensor(arr)\n",
    "print(x)\n",
    "print(type(x))\n",
    "print(x.dtype)\n",
    "print(x.type())"
   ]
  },
  {
   "cell_type": "code",
   "execution_count": 4,
   "id": "15fcea4e-0dfe-48df-9673-e4194735a656",
   "metadata": {},
   "outputs": [
    {
     "name": "stdout",
     "output_type": "stream",
     "text": [
      "tensor([[0., 1., 2.],\n",
      "        [3., 4., 5.],\n",
      "        [6., 7., 8.]], dtype=torch.float64)\n",
      "torch.float64\n",
      "torch.DoubleTensor\n"
     ]
    }
   ],
   "source": [
    "# Floating point datatypes\n",
    "arr2 = np.arange(0.,9.).reshape(3,3)\n",
    "x2 = torch.from_numpy(arr2)\n",
    "print(x2)\n",
    "print(x2.dtype)\n",
    "print(x2.type())"
   ]
  },
  {
   "cell_type": "markdown",
   "id": "ffbd585b-7032-47ce-b45a-6b309a82bff2",
   "metadata": {},
   "source": [
    "## Copy and Share Memory(from Numpy array to Pytorch tensor)\n",
    "Im the commands below, the Pytorch tensor and Numpy array **share** the memory, and changes to one affects another:\n",
    "```python\n",
    "torch.from_numpy()\n",
    "torch.as_tensor()\n",
    "```\n",
    "\n",
    "But, the function below makes a **Copy**:\n",
    "```python\n",
    "torch.tensor()\n",
    "```"
   ]
  },
  {
   "cell_type": "code",
   "execution_count": 5,
   "id": "e498e5e3-1d66-47c0-98db-d486c2516e8b",
   "metadata": {},
   "outputs": [
    {
     "name": "stdout",
     "output_type": "stream",
     "text": [
      "Old value:  tensor([0, 1, 2, 3, 4])\n",
      "New value:  tensor([ 0,  1, 77,  3,  4])\n"
     ]
    }
   ],
   "source": [
    "# Use torch.from_numpy()\n",
    "arr = np.arange(0,5)\n",
    "tensor_ = torch.from_numpy(arr)\n",
    "print('Old value: ', tensor_)\n",
    "\n",
    "# Change one elemtent of Numpy array\n",
    "arr[2]=77\n",
    "print('New value: ', tensor_)"
   ]
  },
  {
   "cell_type": "code",
   "execution_count": 7,
   "id": "1b39105d-1aff-4fff-8415-4577f18e27f3",
   "metadata": {},
   "outputs": [
    {
     "name": "stdout",
     "output_type": "stream",
     "text": [
      "Old value:  tensor([0, 1, 2])\n",
      "New value:  tensor([0, 1, 2])\n"
     ]
    }
   ],
   "source": [
    "# Use torch.tensor()\n",
    "arr = np.arange(0,3)\n",
    "tensor_ = torch.tensor(arr)\n",
    "print('Old value: ', tensor_)\n",
    "\n",
    "# Change one elemtent of Numpy array\n",
    "arr[2]=77\n",
    "print('New value: ', tensor_)"
   ]
  },
  {
   "cell_type": "markdown",
   "id": "1c8e1dda-4d7d-4616-a290-4353d9db063c",
   "metadata": {},
   "source": [
    "## Class Constructors\n",
    "The factory function below, determines the dtype from the input data:\n",
    "```python\n",
    "torch.tensor(data)\n",
    "```\n",
    "\n",
    "The class constuctor below is an **alias** for `torch.FloatTensor(data)`:\n",
    "```python\n",
    "torch.Tensor(data)\n",
    "```"
   ]
  },
  {
   "cell_type": "code",
   "execution_count": 8,
   "id": "7ea72d37-ad86-4bc8-b78d-ffded9221dfd",
   "metadata": {},
   "outputs": [
    {
     "name": "stdout",
     "output_type": "stream",
     "text": [
      "tensor([1., 2., 3.])\n",
      "torch.FloatTensor\n"
     ]
    }
   ],
   "source": [
    "data = np.array([1,2,3])\n",
    "a = torch.Tensor(data)  # Equivalent to a = torch.FloatTensor(data)\n",
    "print(a)\n",
    "print(a.type())"
   ]
  },
  {
   "cell_type": "code",
   "execution_count": 9,
   "id": "8749633b-2c38-45c2-b27b-e41c571e5438",
   "metadata": {},
   "outputs": [
    {
     "name": "stdout",
     "output_type": "stream",
     "text": [
      "tensor([1, 2, 3])\n",
      "torch.LongTensor\n"
     ]
    }
   ],
   "source": [
    "b = torch.tensor(data)\n",
    "print(b)\n",
    "print(b.type())"
   ]
  },
  {
   "cell_type": "code",
   "execution_count": 10,
   "id": "296ae1c4-6d7b-46bd-850e-1bdb46404181",
   "metadata": {},
   "outputs": [
    {
     "name": "stdout",
     "output_type": "stream",
     "text": [
      "tensor([1, 2, 3], dtype=torch.int32)\n",
      "torch.IntTensor\n"
     ]
    }
   ],
   "source": [
    "c = torch.tensor(data, dtype=torch.int32)\n",
    "print(c)\n",
    "print(c.type())"
   ]
  },
  {
   "cell_type": "markdown",
   "id": "cbc68fb5-3305-434c-9519-f03405550645",
   "metadata": {},
   "source": [
    "## Create Pytorch Tensor Directly\n",
    "The command below, creates a tensor without initializing its values. It allocates a block of memory based on the tensor's size and returns the values that happen to be in that memory block, which is similar to how `numpy.empty()` works:\n",
    "```python\n",
    "torch.empty()\n",
    "```"
   ]
  },
  {
   "cell_type": "code",
   "execution_count": 11,
   "id": "80cd74e2-a6c3-4b67-bcce-92bb417a048d",
   "metadata": {},
   "outputs": [
    {
     "name": "stdout",
     "output_type": "stream",
     "text": [
      "tensor([[-4.5267e+08,  4.5860e-41, -4.5272e+08],\n",
      "        [ 4.5860e-41, -4.5260e+08,  4.5860e-41]])\n"
     ]
    }
   ],
   "source": [
    "x = torch.empty(2, 3)\n",
    "print(x)"
   ]
  },
  {
   "cell_type": "markdown",
   "id": "6c2f4434-1bb1-4735-a5f2-eb7f23449061",
   "metadata": {},
   "source": [
    "## Zeros and Ones\n"
   ]
  },
  {
   "cell_type": "code",
   "execution_count": 14,
   "id": "e70ba50c-fcc0-4a62-8071-3029a70050cb",
   "metadata": {},
   "outputs": [
    {
     "name": "stdout",
     "output_type": "stream",
     "text": [
      "tensor([[0, 0, 0],\n",
      "        [0, 0, 0]])\n"
     ]
    }
   ],
   "source": [
    "x = torch.zeros(2, 3, dtype=torch.int64)\n",
    "print(x)"
   ]
  },
  {
   "cell_type": "code",
   "execution_count": 13,
   "id": "cff37769-9863-4c27-bad7-580eab38c799",
   "metadata": {},
   "outputs": [
    {
     "name": "stdout",
     "output_type": "stream",
     "text": [
      "tensor([[1., 1., 1.],\n",
      "        [1., 1., 1.]], dtype=torch.float16)\n"
     ]
    }
   ],
   "source": [
    "y = torch.ones(2, 3, dtype=torch.float16)\n",
    "print(y)"
   ]
  }
 ],
 "metadata": {
  "kernelspec": {
   "display_name": "Python 3 (ipykernel)",
   "language": "python",
   "name": "python3"
  },
  "language_info": {
   "codemirror_mode": {
    "name": "ipython",
    "version": 3
   },
   "file_extension": ".py",
   "mimetype": "text/x-python",
   "name": "python",
   "nbconvert_exporter": "python",
   "pygments_lexer": "ipython3",
   "version": "3.9.18"
  }
 },
 "nbformat": 4,
 "nbformat_minor": 5
}
