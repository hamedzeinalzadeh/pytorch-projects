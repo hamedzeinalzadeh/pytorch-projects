{
 "cells": [
  {
   "cell_type": "markdown",
   "id": "ca2a2fb7-15e0-4d81-9a28-95d6c92381ce",
   "metadata": {},
   "source": [
    "# **Pytorch Basics**\n",
    "---\n",
    "\n",
    "Make sure that you have installed pytorch using the following command.\n",
    "\n",
    "```python \n",
    "torch.__version__\n",
    "```"
   ]
  },
  {
   "cell_type": "markdown",
   "id": "f80c308f-f16c-499f-a0da-d2f5c6a43afa",
   "metadata": {},
   "source": [
    "## Imports"
   ]
  },
  {
   "cell_type": "code",
   "execution_count": 1,
   "id": "551efd63-d1bb-48b2-9f87-200b545af3c1",
   "metadata": {},
   "outputs": [],
   "source": [
    "import torch\n",
    "import numpy as np"
   ]
  },
  {
   "cell_type": "markdown",
   "id": "e7df3289-0ed7-4a62-afd9-c9df5f173bba",
   "metadata": {},
   "source": [
    "# Tensor Basics\n",
    "A torch.Tensor is a multi-dimensional matrix containing elements of a single data type. Check out the link for more details about **torch.tensor** and **Data Types**:\n",
    "\n",
    "https://pytorch.org/docs/stable/tensors.html"
   ]
  },
  {
   "cell_type": "markdown",
   "id": "3d0e3f46-ac27-42a3-9251-4b822d06a4ef",
   "metadata": {},
   "source": [
    "## Converting Numpy Arrays to Pytorch Tensors"
   ]
  },
  {
   "cell_type": "code",
   "execution_count": 5,
   "id": "55bbf859-01d9-48eb-870c-4a1c37c93a82",
   "metadata": {},
   "outputs": [
    {
     "name": "stdout",
     "output_type": "stream",
     "text": [
      "<class 'numpy.ndarray'>\n",
      "int64\n"
     ]
    }
   ],
   "source": [
    "arr = np.array([1,2,3,4,5])\n",
    "print(type(arr))\n",
    "print(arr.dtype)"
   ]
  },
  {
   "cell_type": "code",
   "execution_count": 7,
   "id": "aa84ff83-aa5e-429c-a56d-f91fad181e9a",
   "metadata": {},
   "outputs": [
    {
     "name": "stdout",
     "output_type": "stream",
     "text": [
      "tensor([1, 2, 3, 4, 5])\n",
      "<class 'torch.Tensor'>\n",
      "torch.int64\n",
      "torch.LongTensor\n"
     ]
    }
   ],
   "source": [
    "x = torch.from_numpy(arr)\n",
    "# Equivalent to x = torch.as_tensor(arr)\n",
    "print(x)\n",
    "print(type(x))\n",
    "print(x.dtype)\n",
    "print(x.type())"
   ]
  },
  {
   "cell_type": "code",
   "execution_count": 9,
   "id": "15fcea4e-0dfe-48df-9673-e4194735a656",
   "metadata": {},
   "outputs": [
    {
     "name": "stdout",
     "output_type": "stream",
     "text": [
      "tensor([[0., 1., 2.],\n",
      "        [3., 4., 5.],\n",
      "        [6., 7., 8.]], dtype=torch.float64)\n",
      "torch.float64\n",
      "torch.DoubleTensor\n"
     ]
    }
   ],
   "source": [
    "# Floating point datatypes\n",
    "arr2 = np.arange(0.,9.).reshape(3,3)\n",
    "x2 = torch.from_numpy(arr2)\n",
    "print(x2)\n",
    "print(x2.dtype)\n",
    "print(x2.type())"
   ]
  },
  {
   "cell_type": "markdown",
   "id": "ffbd585b-7032-47ce-b45a-6b309a82bff2",
   "metadata": {},
   "source": [
    "## Copy and Share Memory(from Numpy array to Pytorch tensor)\n",
    "Im the commands below, the Pytorch tensor and Numpy array **share** the memory, and changes to one affects another:\n",
    "```python\n",
    "torch.from_numpy()\n",
    "torch.as_tensor()\n",
    "```\n",
    "\n",
    "But, the function below makes a **Copy**:\n",
    "```python\n",
    "torch.tensor()\n",
    "```"
   ]
  },
  {
   "cell_type": "code",
   "execution_count": 12,
   "id": "e498e5e3-1d66-47c0-98db-d486c2516e8b",
   "metadata": {},
   "outputs": [
    {
     "name": "stdout",
     "output_type": "stream",
     "text": [
      "Old value:  tensor([0, 1, 2, 3, 4])\n",
      "New value:  tensor([ 0,  1, 77,  3,  4])\n"
     ]
    }
   ],
   "source": [
    "# Use torch.from_numpy()\n",
    "arr = np.arange(0,5)\n",
    "tensor_ = torch.from_numpy(arr)\n",
    "print('Old value: ', tensor_)\n",
    "\n",
    "# Change one elemtent of Numpy array\n",
    "arr[2]=77\n",
    "print('New value: ', tensor_)"
   ]
  },
  {
   "cell_type": "code",
   "execution_count": null,
   "id": "1b39105d-1aff-4fff-8415-4577f18e27f3",
   "metadata": {},
   "outputs": [],
   "source": [
    "# Use torch.tensor()\n",
    "arr = np.arange(0,3)\n",
    "tensor_ = torch.tensor(arr)\n",
    "print(t)"
   ]
  }
 ],
 "metadata": {
  "kernelspec": {
   "display_name": "Python 3 (ipykernel)",
   "language": "python",
   "name": "python3"
  },
  "language_info": {
   "codemirror_mode": {
    "name": "ipython",
    "version": 3
   },
   "file_extension": ".py",
   "mimetype": "text/x-python",
   "name": "python",
   "nbconvert_exporter": "python",
   "pygments_lexer": "ipython3",
   "version": "3.10.4"
  }
 },
 "nbformat": 4,
 "nbformat_minor": 5
}
